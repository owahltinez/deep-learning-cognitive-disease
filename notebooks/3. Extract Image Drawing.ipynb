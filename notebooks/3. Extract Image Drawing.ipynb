{
 "cells": [
  {
   "cell_type": "markdown",
   "metadata": {},
   "source": [
    "# Extract Image Drawing\n",
    "This notebook uses the CSV outputs from the template ROI and drawing ROI processing, and produces an image containing only the drawing after removing the template, centering around the drawing coordinates and denoising the result."
   ]
  },
  {
   "cell_type": "code",
   "execution_count": 1,
   "metadata": {},
   "outputs": [],
   "source": [
    "%matplotlib inline\n",
    "\n",
    "import math\n",
    "from pathlib import Path\n",
    "\n",
    "import cv2\n",
    "import skimage\n",
    "import numpy as np\n",
    "import pandas as pd\n",
    "from tqdm import tqdm_notebook as tqdm\n",
    "from bananas.utils import images \n",
    "\n",
    "# Root path of project relative to this notebook\n",
    "ROOT = Path('..')\n",
    "\n",
    "sys.path.insert(1, str(ROOT / 'scripts'))\n",
    "from datamodels import *\n",
    "from utils import *"
   ]
  },
  {
   "cell_type": "markdown",
   "metadata": {},
   "source": [
    "### Load data from sources and join it into a single table"
   ]
  },
  {
   "cell_type": "code",
   "execution_count": 2,
   "metadata": {},
   "outputs": [
    {
     "data": {
      "text/html": [
       "<div>\n",
       "<style scoped>\n",
       "    .dataframe tbody tr th:only-of-type {\n",
       "        vertical-align: middle;\n",
       "    }\n",
       "\n",
       "    .dataframe tbody tr th {\n",
       "        vertical-align: top;\n",
       "    }\n",
       "\n",
       "    .dataframe thead th {\n",
       "        text-align: right;\n",
       "    }\n",
       "</style>\n",
       "<table border=\"1\" class=\"dataframe\">\n",
       "  <thead>\n",
       "    <tr style=\"text-align: right;\">\n",
       "      <th></th>\n",
       "      <th>template_name</th>\n",
       "      <th>template_path</th>\n",
       "      <th>template_box</th>\n",
       "      <th>drawing_box</th>\n",
       "    </tr>\n",
       "    <tr>\n",
       "      <th>image_path</th>\n",
       "      <th></th>\n",
       "      <th></th>\n",
       "      <th></th>\n",
       "      <th></th>\n",
       "    </tr>\n",
       "  </thead>\n",
       "  <tbody>\n",
       "    <tr>\n",
       "      <th>drawings/CASA/casaPsic_025Ev4.pdf_pg-12.jpg</th>\n",
       "      <td>casa</td>\n",
       "      <td>templates/casa.png</td>\n",
       "      <td>254,67,420,264</td>\n",
       "      <td>36,8,284,302</td>\n",
       "    </tr>\n",
       "    <tr>\n",
       "      <th>drawings/CASA/casaPsic_135Ev2.pdf_pg-10.jpg</th>\n",
       "      <td>casa</td>\n",
       "      <td>templates/casa.png</td>\n",
       "      <td>250,88,416,285</td>\n",
       "      <td>3,29,251,323</td>\n",
       "    </tr>\n",
       "    <tr>\n",
       "      <th>drawings/CASA/casaPsic_004Ev4.pdf_pg-13.jpg</th>\n",
       "      <td>casa</td>\n",
       "      <td>templates/casa.png</td>\n",
       "      <td>248,8,414,205</td>\n",
       "      <td>142,187,390,444</td>\n",
       "    </tr>\n",
       "    <tr>\n",
       "      <th>drawings/CASA/casaPsic_220Ev3.pdf_pg-8.jpg</th>\n",
       "      <td>casa</td>\n",
       "      <td>templates/casa.png</td>\n",
       "      <td>197,90,363,287</td>\n",
       "      <td>317,38,565,332</td>\n",
       "    </tr>\n",
       "    <tr>\n",
       "      <th>drawings/CASA/casaPsic_029Ev3.pdf_pg-8.jpg</th>\n",
       "      <td>casa</td>\n",
       "      <td>templates/casa.png</td>\n",
       "      <td>264,114,430,311</td>\n",
       "      <td>74,50,322,344</td>\n",
       "    </tr>\n",
       "  </tbody>\n",
       "</table>\n",
       "</div>"
      ],
      "text/plain": [
       "                                            template_name       template_path  \\\n",
       "image_path                                                                      \n",
       "drawings/CASA/casaPsic_025Ev4.pdf_pg-12.jpg          casa  templates/casa.png   \n",
       "drawings/CASA/casaPsic_135Ev2.pdf_pg-10.jpg          casa  templates/casa.png   \n",
       "drawings/CASA/casaPsic_004Ev4.pdf_pg-13.jpg          casa  templates/casa.png   \n",
       "drawings/CASA/casaPsic_220Ev3.pdf_pg-8.jpg           casa  templates/casa.png   \n",
       "drawings/CASA/casaPsic_029Ev3.pdf_pg-8.jpg           casa  templates/casa.png   \n",
       "\n",
       "                                                template_box      drawing_box  \n",
       "image_path                                                                     \n",
       "drawings/CASA/casaPsic_025Ev4.pdf_pg-12.jpg   254,67,420,264     36,8,284,302  \n",
       "drawings/CASA/casaPsic_135Ev2.pdf_pg-10.jpg   250,88,416,285     3,29,251,323  \n",
       "drawings/CASA/casaPsic_004Ev4.pdf_pg-13.jpg    248,8,414,205  142,187,390,444  \n",
       "drawings/CASA/casaPsic_220Ev3.pdf_pg-8.jpg    197,90,363,287   317,38,565,332  \n",
       "drawings/CASA/casaPsic_029Ev3.pdf_pg-8.jpg   264,114,430,311    74,50,322,344  "
      ]
     },
     "execution_count": 2,
     "metadata": {},
     "output_type": "execute_result"
    }
   ],
   "source": [
    "# Read and merge data sources\n",
    "df_tpl = pd.read_csv(ROOT / 'datasets' / 'template_roi.csv').set_index('image_path')\n",
    "df_drawing = pd.read_csv(ROOT / 'datasets' / 'drawing_roi.csv').set_index('image_path')\n",
    "df = pd.merge(df_tpl, df_drawing, left_index=True, right_index=True, how='inner')\n",
    "\n",
    "# Convert non-primitive fields\n",
    "df['drawing_box'] = df['drawing_box'].apply(lambda x: Box.load(x))\n",
    "df['template_box'] = df['template_box'].apply(lambda x: Box.load(x))\n",
    "\n",
    "df.head()"
   ]
  },
  {
   "cell_type": "markdown",
   "metadata": {},
   "source": [
    "### Helper functions"
   ]
  },
  {
   "cell_type": "code",
   "execution_count": 3,
   "metadata": {},
   "outputs": [],
   "source": [
    "# https://stackoverflow.com/a/51174313/440780\n",
    "def adjust_gamma(image, gamma=1.0):\n",
    "    inv_gamma = 1.0 / gamma\n",
    "    table = np.array([((i / 255.0) ** inv_gamma) * 255\n",
    "                      for i in np.arange(0, 256)])\n",
    "    return cv2.LUT(image.astype(np.uint8), table.astype(np.uint8))\n"
   ]
  },
  {
   "cell_type": "code",
   "execution_count": 4,
   "metadata": {},
   "outputs": [],
   "source": [
    "def process_tpl(tpl: Template) -> np.ndarray:\n",
    "    \n",
    "    # Smooth over template\n",
    "    kernel_size = 9\n",
    "    kernel = np.ones((kernel_size, kernel_size), dtype=np.float32) / kernel_size ** 2\n",
    "    tpl = cv2.filter2D(tpl.image, -1, kernel)\n",
    "\n",
    "    # Darken smooth template\n",
    "    return adjust_gamma(tpl, gamma=.05).astype(np.float32)"
   ]
  },
  {
   "cell_type": "code",
   "execution_count": 5,
   "metadata": {},
   "outputs": [
    {
     "data": {
      "image/png": "[encoded data removed]",
      "text/plain": [
       "<Figure size 720x720 with 1 Axes>"
      ]
     },
     "metadata": {
      "needs_background": "light"
     },
     "output_type": "display_data"
    }
   ],
   "source": [
    "templates = tpl_load_all(ROOT / 'templates')\n",
    "tpl = templates[2]\n",
    "\n",
    "tpl_smooth = process_tpl(tpl)\n",
    "imshow(tpl_smooth)"
   ]
  },
  {
   "cell_type": "code",
   "execution_count": 6,
   "metadata": {},
   "outputs": [],
   "source": [
    "def del_tpl(img: np.ndarray, tpl: np.ndarray, roi: Box):\n",
    "    \n",
    "    # Convert drawing to floating type to prevent overflow\n",
    "    img = img.astype(np.float32)\n",
    "\n",
    "    # Within the bounding box, erase template\n",
    "    patch = img[roi.top:roi.bottom, roi.left:roi.right] + (255 - tpl)\n",
    "    img[roi.top:roi.bottom, roi.left:roi.right] = np.clip(patch, 0 , 255)\n",
    "\n",
    "    # Convert image back to uint8\n",
    "    return img.astype(np.uint8)\n",
    "\n",
    "def del_noise(img: np.ndarray):\n",
    "    \n",
    "    # Remove noise from image\n",
    "    img_denoised = cv2.fastNlMeansDenoising(img)\n",
    "    \n",
    "    # Binarized result\n",
    "    _, img_denoised = cv2.threshold(img_denoised, 0, 255, cv2.THRESH_OTSU)\n",
    "    return img_denoised\n",
    "\n",
    "def inverse(img):\n",
    "    return 255 - img\n",
    "\n",
    "def binarize(img, blksize=35, C=3):\n",
    "    '''\n",
    "    Image preprocessing function that converts an image into B/W using adaptive thresholding.\n",
    "    '''\n",
    "    return cv2.adaptiveThreshold(img, 255, cv2.ADAPTIVE_THRESH_MEAN_C, cv2.THRESH_BINARY, blksize, C)\n",
    "\n",
    "def delete_small_components(img, threshold=56):\n",
    "    '''\n",
    "    Image preprocessing function that computes connected components and deletes\n",
    "    those below a certain thershold of number of pixels. Input image must be binarized.\n",
    "    '''\n",
    "\n",
    "    # Enumerate the connected components\n",
    "    num, traces = cv2.connectedComponents(img)\n",
    "    for i in range(1, num):\n",
    "\n",
    "        # Remove small connected components which are likely just noise\n",
    "        ct = len(traces[traces == i])\n",
    "        if ct < threshold:\n",
    "            traces[traces == i] = 0\n",
    "\n",
    "    traces[traces != 0] = img.max()\n",
    "    return traces\n",
    "\n",
    "def center_drawing(img, atol=1E-3):\n",
    "    '''\n",
    "    Image preprocessing function that removes all empty whitespace around drawing.\n",
    "    '''\n",
    "\n",
    "    # Remove the top N columns that are empty, and rotate the drawing\n",
    "    # Doing this 4 times effectively removes whitespace in all 4 directions\n",
    "    for _ in range(4):\n",
    "        row_curr = 0\n",
    "        while abs(img[row_curr].min() - img[row_curr].max()) < atol:\n",
    "            row_curr += 1\n",
    "            if len(img) >= row_curr: break\n",
    "        img = img[row_curr-1:, :]\n",
    "        img = np.rot90(img)\n",
    "\n",
    "    return img\n",
    "\n",
    "def resize_output(img, side=300, fill_color=0):\n",
    "    delta_y = side - img.shape[0]\n",
    "    delta_x = side - img.shape[1]\n",
    "    padding_y = math.floor(delta_y / 2), math.ceil(delta_y / 2)\n",
    "    padding_x = math.floor(delta_x / 2), math.ceil(delta_x / 2)\n",
    "    squared = np.ones((side, side), dtype=img.dtype) * fill_color\n",
    "    squared[padding_y[0]:-padding_y[1], padding_x[0]:-padding_x[1]] = img\n",
    "    return squared\n"
   ]
  },
  {
   "cell_type": "code",
   "execution_count": 7,
   "metadata": {},
   "outputs": [
    {
     "data": {
      "application/vnd.jupyter.widget-view+json": {
       "model_id": "ec96f8180d84440693a213931cf3d3ef",
       "version_major": 2,
       "version_minor": 0
      },
      "text/plain": [
       "HBox(children=(IntProgress(value=0, max=6187), HTML(value='')))"
      ]
     },
     "metadata": {},
     "output_type": "display_data"
    },
    {
     "name": "stdout",
     "output_type": "stream",
     "text": [
      "\n"
     ]
    },
    {
     "data": {
      "image/png": "[encoded data removed]",
      "text/plain": [
       "<Figure size 720x720 with 1 Axes>"
      ]
     },
     "metadata": {
      "needs_background": "light"
     },
     "output_type": "display_data"
    }
   ],
   "source": [
    "# Make sure output directory exists\n",
    "out_dir = ROOT / 'processed'\n",
    "out_dir.mkdir(exist_ok=True)\n",
    "\n",
    "# Save all processed output paths into a list of records\n",
    "processed_records = []\n",
    "\n",
    "# Iterate over each image\n",
    "for image_path, record in tqdm(df.iterrows(), total=len(df)):\n",
    "    \n",
    "    # Open image\n",
    "    img = images.open_image(ROOT / image_path, convert='L')\n",
    "    \n",
    "    # Get the corresponding template\n",
    "    tpl = [tpl for tpl in templates if tpl.name == record['template_name']][0]\n",
    "    \n",
    "    # Remove template from image\n",
    "    img = del_tpl(img, process_tpl(tpl), record['template_box'])\n",
    "    \n",
    "    # Extract drawing from page\n",
    "    drawing_box = record['drawing_box']\n",
    "    img = img[drawing_box.top:drawing_box.bottom, drawing_box.left:drawing_box.right]\n",
    "    \n",
    "    # Process drawing to remove noise\n",
    "    img = binarize(img)\n",
    "    img = inverse(img)\n",
    "    img = del_noise(img)\n",
    "    img = delete_small_components(img)\n",
    "    \n",
    "    # Resize image to consistent 300x300\n",
    "    img = images.resize_canvas(img, 300, 300, fill_color_rgb=(0, 0, 0))\n",
    "    \n",
    "    # Write processed output\n",
    "    out_path = out_dir / Path(image_path).name\n",
    "    images.ndarray_to_pil(img.astype(np.uint8)).convert('L').save(str(out_path))\n",
    "    \n",
    "    # Save it as a record\n",
    "    processed_records.append({\n",
    "        'image_path': image_path,\n",
    "        'processed_path': out_path.relative_to(ROOT)})\n",
    "    \n",
    "df_processed = pd.DataFrame.from_records(processed_records).set_index('image_path')\n",
    "pd.merge(df, df_processed, left_index=True, right_index=True, how='inner').to_csv(ROOT / 'datasets' / 'image_processed.csv')\n",
    "imshow(img)"
   ]
  }
 ],
 "metadata": {
  "kernelspec": {
   "display_name": "Python 3",
   "language": "python",
   "name": "python3"
  },
  "language_info": {
   "codemirror_mode": {
    "name": "ipython",
    "version": 3
   },
   "file_extension": ".py",
   "mimetype": "text/x-python",
   "name": "python",
   "nbconvert_exporter": "python",
   "pygments_lexer": "ipython3",
   "version": "3.7.4"
  }
 },
 "nbformat": 4,
 "nbformat_minor": 2
}
