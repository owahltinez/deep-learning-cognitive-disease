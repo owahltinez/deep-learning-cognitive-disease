{
 "cells": [
  {
   "cell_type": "code",
   "execution_count": null,
   "metadata": {},
   "outputs": [],
   "source": [
    "import sys\n",
    "import json\n",
    "from pathlib import Path\n",
    "\n",
    "from tqdm.notebook import tqdm\n",
    "import numpy as np\n",
    "import pandas as pd\n",
    "\n",
    "# Root path of project relative to this notebook\n",
    "ROOT = Path('..')\n",
    "\n",
    "sys.path.insert(1, str(ROOT / 'scripts'))\n",
    "from datamodels import *\n",
    "from utils import *"
   ]
  },
  {
   "cell_type": "markdown",
   "metadata": {},
   "source": [
    "### Read patient data from local file"
   ]
  },
  {
   "cell_type": "code",
   "execution_count": null,
   "metadata": {},
   "outputs": [],
   "source": [
    "df = pd.read_csv(ROOT / 'datasets' / 'drawing_evaluations.csv', index_col=0)\n",
    "\n",
    "# Convert non-primitive fields and normalize paths\n",
    "df['processed_path'] = df['processed_path'].apply(lambda x: ROOT / x)\n",
    "df['image_path'] = df['image_path'].apply(lambda x: ROOT / x)\n",
    "df['template_path'] = df['template_path'].apply(lambda x: ROOT / x)\n",
    "df['drawing_box'] = df['drawing_box'].apply(lambda x: Box.load(x))\n",
    "df['template_box'] = df['template_box'].apply(lambda x: Box.load(x))\n",
    "\n",
    "# Remove all unnecessary columns from our dataset\n",
    "feat_keys = ['processed_path']\n",
    "group_columns = ['diagnosis']\n",
    "df = df[group_columns + feat_keys].copy()\n",
    "\n",
    "df.head()"
   ]
  },
  {
   "cell_type": "markdown",
   "metadata": {},
   "source": [
    "### Load custom MLP model"
   ]
  },
  {
   "cell_type": "code",
   "execution_count": null,
   "metadata": {},
   "outputs": [],
   "source": [
    "from quick_draw_learner import QDClassifier"
   ]
  },
  {
   "cell_type": "markdown",
   "metadata": {},
   "source": [
    "### Create a file to hold intermediate results"
   ]
  },
  {
   "cell_type": "code",
   "execution_count": null,
   "metadata": {},
   "outputs": [],
   "source": [
    "results_file = ROOT / 'results' / 'qd_ungrouped.csv'\n",
    "\n",
    "if not results_file.exists():\n",
    "    pd.DataFrame(columns=[\n",
    "        'Trial',\n",
    "        'Random seed', \n",
    "        'Parameters', \n",
    "        'Accuracy',\n",
    "        'Precision',\n",
    "        'Recall',\n",
    "        'Area under ROC']).to_csv(results_file, index=False)\n",
    "\n",
    "trial_results = pd.read_csv(results_file).to_dict(orient='records')"
   ]
  },
  {
   "cell_type": "markdown",
   "metadata": {},
   "source": [
    "### Build and train..."
   ]
  },
  {
   "cell_type": "code",
   "execution_count": null,
   "metadata": {},
   "outputs": [],
   "source": [
    "from bananas.statistics.scoring import ScoringFunction\n",
    "    \n",
    "# Define all possible hyperparameters\n",
    "parameters = {\n",
    "    'random_seed': [0],\n",
    "    'scoring_function': [ScoringFunction.ACCURACY],\n",
    "    'kernel_size': [5, 7, 9, 11],\n",
    "}\n",
    "\n",
    "# Parameters that are changed by hand\n",
    "batch_size = 48\n",
    "test_split = .2\n",
    "validation_split = .2\n",
    "\n",
    "target_label = 'SANO'\n",
    "target_column = 'diagnosis'"
   ]
  },
  {
   "cell_type": "code",
   "execution_count": null,
   "metadata": {},
   "outputs": [],
   "source": [
    "from bananas.dataset import DataSet, DataType, Feature\n",
    "from bananas.sampling.cross_validation import DataSplit\n",
    "from bananas.statistics import scoring\n",
    "from bananas.statistics.scoring import ScoringFunction\n",
    "from bananas.hyperparameters.gridsearch import GridSearch\n",
    "\n",
    "# Perform 3 trials per parameter set to later compute the average\n",
    "trial_count = 3\n",
    "score_history = {}\n",
    "\n",
    "# Execute the independent trials\n",
    "for trial_num in tqdm(range(trial_count), leave=False, desc='Trial'):\n",
    "\n",
    "    # Create a single feature containing all image data\n",
    "    features = [Feature(\n",
    "        ImageAugmenterLoader(df['processed_path'].values),\n",
    "        kind=DataType.HIGH_DIMENSIOAL,\n",
    "        sample_size=4,\n",
    "        random_seed=0)]\n",
    "\n",
    "    # Define target feature\n",
    "    target_feature = Feature(\n",
    "        (df[target_column] == target_label).values, random_seed=0)\n",
    "\n",
    "    # Compute the overall class balance\n",
    "    true_class_balance = sum(target_feature[:] / len(target_feature))\n",
    "\n",
    "\n",
    "    # Always re-initialize the randopm seed\n",
    "    random_seed = trial_num\n",
    "\n",
    "    while True:\n",
    "\n",
    "        # Change seed at every iteration to ensure different dataset split\n",
    "        random_seed = np.random.RandomState(seed=random_seed).randint(1E6)\n",
    "\n",
    "        # Build dataset, making sure that we have a left-out subset\n",
    "        dataset = DataSet(\n",
    "            features,\n",
    "            name=target_label,\n",
    "            target=target_feature,\n",
    "            random_seed=random_seed,\n",
    "            batch_size=batch_size,\n",
    "            test_split=test_split,\n",
    "            validation_split=validation_split)\n",
    "\n",
    "        # Rebuild dataset unless test class balance is within 5% of ground truth\n",
    "        test_idx = dataset.sampler.subsamplers[DataSplit.VALIDATION].data\n",
    "        test_classes = target_feature[test_idx]\n",
    "        test_class_balance = sum(test_classes) / len(test_classes)\n",
    "        if abs(test_class_balance - true_class_balance) < .05: break\n",
    "\n",
    "    # Instantiate learner using pre-trained model\n",
    "    learner = GridSearch(QDClassifier, learner_parameters=parameters, n_jobs=4)\n",
    "\n",
    "    # Train learner using train dataset\n",
    "    try:\n",
    "        learner.train(\n",
    "            dataset.input_fn,\n",
    "            progress=True,\n",
    "            max_steps=1000)\n",
    "    except KeyboardInterrupt:\n",
    "        pass\n",
    "\n",
    "    # Test all learner predictions using left-out validation subset\n",
    "    for learner_, params in learner.parameters_.items():\n",
    "        \n",
    "        X, y = dataset[test_idx]\n",
    "        y = learner_.label_encoder_.transform(y)\n",
    "        y_ = learner_.predict_proba(X)\n",
    "        \n",
    "        # Add manual parameters\n",
    "        params = {**params, 'batch_size': batch_size}\n",
    "\n",
    "        # Store trial results\n",
    "        trial_results.append({\n",
    "            'Trial': trial_num,\n",
    "            'Random seed': random_seed,\n",
    "            'Parameters': json.dumps(params),\n",
    "            'Accuracy': scoring.score_accuracy(y, y_),\n",
    "            'Precision': scoring.score_precision(y, y_),\n",
    "            'Recall': scoring.score_recall(y, y_),\n",
    "            'Area under ROC': scoring.score_auroc(y, y_),\n",
    "            'History': json.dumps(learner.history_[learner_].scores)\n",
    "        })\n",
    "\n",
    "    df_results = pd.DataFrame.from_dict(trial_results)\n",
    "    df_results = df_results.drop_duplicates()\n",
    "    df_results = df_results.sort_values('Accuracy', ascending=False)\n",
    "    df_results.to_csv(results_file, index=False)"
   ]
  },
  {
   "cell_type": "code",
   "execution_count": null,
   "metadata": {},
   "outputs": [],
   "source": [
    "df_results.head(15)"
   ]
  }
 ],
 "metadata": {
  "kernelspec": {
   "display_name": "Python 3",
   "language": "python",
   "name": "python3"
  },
  "language_info": {
   "codemirror_mode": {
    "name": "ipython",
    "version": 3
   },
   "file_extension": ".py",
   "mimetype": "text/x-python",
   "name": "python",
   "nbconvert_exporter": "python",
   "pygments_lexer": "ipython3",
   "version": "3.7.6"
  }
 },
 "nbformat": 4,
 "nbformat_minor": 4
}
