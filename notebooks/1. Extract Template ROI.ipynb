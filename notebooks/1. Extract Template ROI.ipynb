{
 "cells": [
  {
   "cell_type": "markdown",
   "metadata": {},
   "source": [
    "# Extract Template ROI\n",
    "This notebook extracts the ROI of the template using template matching and the templates provided under the `templates` folder. The output is a CSV file with each image path, the corresponding template path, and the ROI of the template within the image."
   ]
  },
  {
   "cell_type": "code",
   "execution_count": null,
   "metadata": {},
   "outputs": [],
   "source": [
    "import sys\n",
    "import math\n",
    "from pathlib import Path\n",
    "from typing import Dict, List\n",
    "\n",
    "import cv2\n",
    "import numpy as np\n",
    "import pandas as pd\n",
    "from tqdm.notebook import tqdm\n",
    "from bananas.utils import images\n",
    "\n",
    "# Root path of project relative to this notebook\n",
    "ROOT = Path('..')\n",
    "\n",
    "sys.path.insert(1, str(ROOT / 'scripts'))\n",
    "from datamodels import *\n",
    "from utils import *"
   ]
  },
  {
   "cell_type": "markdown",
   "metadata": {},
   "source": [
    "### Load all templates from the templates folder"
   ]
  },
  {
   "cell_type": "code",
   "execution_count": null,
   "metadata": {},
   "outputs": [],
   "source": [
    "templates = tpl_load_all(ROOT / 'templates')\n",
    "assert len(templates) > 0, 'Templates folder is empty, please run module #0'"
   ]
  },
  {
   "cell_type": "markdown",
   "metadata": {},
   "source": [
    "### Use template matching to find the template in each of the source images"
   ]
  },
  {
   "cell_type": "code",
   "execution_count": null,
   "metadata": {},
   "outputs": [],
   "source": [
    "def find_tpl(img: np.ndarray, tpl: Template):\n",
    "    # Find template within the image\n",
    "    res = cv2.matchTemplate(img, tpl.image, cv2.TM_CCOEFF_NORMED)\n",
    "    min_val, max_val, min_loc, max_loc = cv2.minMaxLoc(res)\n",
    "\n",
    "    # Find the bounding box of template in image\n",
    "    left, top = max_loc\n",
    "    right, bottom = left + tpl.width, top + tpl.height\n",
    "    \n",
    "    return Box(left = left, top = top, right = right, bottom = bottom)"
   ]
  },
  {
   "cell_type": "code",
   "execution_count": null,
   "metadata": {},
   "outputs": [],
   "source": [
    "# Iterate over all image drawings\n",
    "tpl_roi_records = []\n",
    "for tpl in tqdm(templates, leave=False):\n",
    "    imdir = ROOT / 'drawings' / tpl.name.upper()\n",
    "    impaths = [impath for impath in imdir.iterdir() if impath.suffix in IMG_EXTENSIONS]\n",
    "    \n",
    "    # Extract template ROIs from images\n",
    "    for impath in impaths:\n",
    "        relpath = str(impath.relative_to(ROOT))\n",
    "        img = images.open_image(str(impath), convert='L')\n",
    "        try:\n",
    "            tpl_box = find_tpl(img, tpl)\n",
    "            tpl_roi_records.append({\n",
    "                'image_path': str(relpath),\n",
    "                'template_name': tpl.name,\n",
    "                'template_path': str(tpl.path.relative_to(ROOT)),\n",
    "                'template_box': str(tpl_box)})\n",
    "        except:\n",
    "            tqdm.write('Template not found for %s' % impath)\n",
    "\n",
    "print('ROIs processed: %d' % len(tpl_roi_records))"
   ]
  },
  {
   "cell_type": "markdown",
   "metadata": {},
   "source": [
    "### Write results in a CSV file"
   ]
  },
  {
   "cell_type": "code",
   "execution_count": null,
   "metadata": {},
   "outputs": [],
   "source": [
    "pd.DataFrame.from_records(tpl_roi_records).set_index('image_path').to_csv(ROOT / 'datasets' / 'template_roi.csv')"
   ]
  }
 ],
 "metadata": {
  "kernelspec": {
   "display_name": "Python 3",
   "language": "python",
   "name": "python3"
  },
  "language_info": {
   "codemirror_mode": {
    "name": "ipython",
    "version": 3
   },
   "file_extension": ".py",
   "mimetype": "text/x-python",
   "name": "python",
   "nbconvert_exporter": "python",
   "pygments_lexer": "ipython3",
   "version": "3.7.6"
  }
 },
 "nbformat": 4,
 "nbformat_minor": 4
}
