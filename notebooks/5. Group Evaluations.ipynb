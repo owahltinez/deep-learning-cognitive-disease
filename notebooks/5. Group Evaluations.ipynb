{
 "cells": [
  {
   "cell_type": "markdown",
   "metadata": {},
   "source": [
    "# Group Evaluations\n",
    "This notebook creates a new dataset where each record contains all drawings per subject per evaluation, including the evaluation results. The output is used for the QD-Grouped model."
   ],
   "execution_count": null,
   "outputs": []
  },
  {
   "cell_type": "code",
   "execution_count": null,
   "metadata": {},
   "outputs": [],
   "source": [
    "import sys\n",
    "from pathlib import Path\n",
    "\n",
    "from tqdm import tqdm\n",
    "import pandas as pd\n",
    "\n",
    "from bananas.utils import images\n",
    "from bananas.utils.arrays import unique\n",
    "from bananas.dataset import DataSet, DataType, Feature\n",
    "from coconuts.learners.convolution import CNNClassifier\n",
    "from coconuts.learners.transfer_learning import TransferLearningModel\n",
    "from coconuts.learners.image_classifier import ImageClassifier\n",
    "from torchvision import models as torchvision_models\n",
    "\n",
    "# Root path of project relative to this notebook\n",
    "ROOT = Path('..')\n",
    "\n",
    "sys.path.insert(1, str(ROOT / 'scripts'))\n",
    "from datamodels import *\n",
    "from utils import *"
   ]
  },
  {
   "cell_type": "markdown",
   "metadata": {},
   "source": [
    "### Read subject data from local file"
   ],
   "execution_count": null,
   "outputs": []
  },
  {
   "cell_type": "code",
   "execution_count": null,
   "metadata": {},
   "outputs": [],
   "source": [
    "df = pd.read_csv(ROOT / 'datasets' / 'drawing_evaluations.csv').set_index('key')\n",
    "\n",
    "# Convert non-primitive fields\n",
    "df['processed_path'] = df['processed_path'].apply(lambda x: Path(x))\n",
    "df['image_path'] = df['image_path'].apply(lambda x: Path(x))\n",
    "df['template_path'] = df['template_path'].apply(lambda x: Path(x))\n",
    "df['drawing_box'] = df['drawing_box'].apply(lambda x: Box.load(x))\n",
    "df['template_box'] = df['template_box'].apply(lambda x: Box.load(x))"
   ]
  },
  {
   "cell_type": "code",
   "execution_count": null,
   "metadata": {},
   "outputs": [],
   "source": [
    "# Filter only keys that have all drawings\n",
    "tpl_name_list = df['template_name'].unique().tolist()\n",
    "tpl_name_list = ['casa', 'circulo', 'cruz', 'cuadrado', 'cubo', 'minimental', 'triangulo']\n",
    "all_keys = [key for key in df.index.unique() if len(df.loc[[key]]) >= len(tpl_name_list)]\n",
    "df = df.loc[all_keys]\n",
    "\n",
    "# Remove all unnecessary columns from our dataset\n",
    "feat_keys = ['processed_path']\n",
    "group_columns = ['key', 'template_name', 'diagnosis']\n",
    "df_templates = df.reset_index()[group_columns + feat_keys].groupby('template_name')\n",
    "\n",
    "# Merge into a single dataset crossing template name and feature\n",
    "df_features = pd.DataFrame(index=all_keys)\n",
    "for group_key in df_templates.groups.keys():\n",
    "    idx = df_templates.groups[group_key]\n",
    "    group_feats = df.iloc[idx][feat_keys]\n",
    "    group_feats.columns = ['%s_%s' % (col, group_key) for col in group_feats.columns]\n",
    "    df_features = pd.merge(\n",
    "        df_features, group_feats, left_index=True, right_index=True, how='outer')\n",
    "    \n",
    "# Add the diagnosis target feature back to the dataframe\n",
    "df_features['diagnosis'] = df.reset_index().drop_duplicates('key').set_index('key')['diagnosis']\n",
    "\n",
    "# Save it to local file\n",
    "df_features.sort_index().dropna().to_csv(ROOT / 'datasets' / 'drawing_evaluations_grouped.csv')"
   ]
  },
  {
   "cell_type": "markdown",
   "metadata": {},
   "source": [
    "### Display summary stats"
   ],
   "execution_count": null,
   "outputs": []
  },
  {
   "cell_type": "code",
   "execution_count": null,
   "metadata": {},
   "outputs": [],
   "source": [
    "summary_stats = []\n",
    "for diag in df_features['diagnosis'].unique():\n",
    "    count = sum(df_features['diagnosis'] == diag)\n",
    "    summary_stats.append({\n",
    "        'Diagnosis': diag,\n",
    "        'Count': count,\n",
    "        'Percent': count / len(df_features)})\n",
    "\n",
    "pd.DataFrame.from_records(summary_stats).set_index('Diagnosis')"
   ]
  }
 ],
 "metadata": {
  "kernelspec": {
   "display_name": "Python 3",
   "language": "python",
   "name": "python3"
  },
  "language_info": {
   "codemirror_mode": {
    "name": "ipython",
    "version": 3
   },
   "file_extension": ".py",
   "mimetype": "text/x-python",
   "name": "python",
   "nbconvert_exporter": "python",
   "pygments_lexer": "ipython3",
   "version": "3.7.6-final"
  }
 },
 "nbformat": 4,
 "nbformat_minor": 2
}