{
 "cells": [
  {
   "cell_type": "markdown",
   "metadata": {},
   "source": [
    "# Prerequisites\n",
    "This notebook installs the required dependencies and downloads the data needed to perform the analysis and mdoel training."
   ]
  },
  {
   "cell_type": "markdown",
   "metadata": {},
   "source": [
    "## Install dependencies"
   ]
  },
  {
   "cell_type": "code",
   "execution_count": 4,
   "metadata": {},
   "outputs": [
    {
     "output_type": "stream",
     "name": "stdout",
     "text": "Collecting git+https://github.com/owahltinez/bananas (from -r requirements.txt (line 1))\n  Cloning https://github.com/owahltinez/bananas to /private/var/folders/05/bl7ccm890vscswhv346x973m00b4kk/T/pip-req-build-2r8sdj1t\n  Running command git clone -q https://github.com/owahltinez/bananas /private/var/folders/05/bl7ccm890vscswhv346x973m00b4kk/T/pip-req-build-2r8sdj1t\nRequirement already satisfied (use --upgrade to upgrade): bananas==0.0.1 from git+https://github.com/owahltinez/bananas in /Users/owahltinez/opt/miniconda3/lib/python3.7/site-packages/bananas-0.0.1-py3.7.egg (from -r requirements.txt (line 1))\nCollecting git+https://github.com/owahltinez/coconuts (from -r requirements.txt (line 2))\n  Cloning https://github.com/owahltinez/coconuts to /private/var/folders/05/bl7ccm890vscswhv346x973m00b4kk/T/pip-req-build-r9bxa7yi\n  Running command git clone -q https://github.com/owahltinez/coconuts /private/var/folders/05/bl7ccm890vscswhv346x973m00b4kk/T/pip-req-build-r9bxa7yi\nRequirement already satisfied (use --upgrade to upgrade): coconuts==0.0.1 from git+https://github.com/owahltinez/coconuts in /Users/owahltinez/opt/miniconda3/lib/python3.7/site-packages (from -r requirements.txt (line 2))\nRequirement already satisfied: imgaug==0.4.0 in /Users/owahltinez/opt/miniconda3/lib/python3.7/site-packages (from -r requirements.txt (line 3)) (0.4.0)\nRequirement already satisfied: numpy in /Users/owahltinez/opt/miniconda3/lib/python3.7/site-packages (from bananas==0.0.1->-r requirements.txt (line 1)) (1.18.1)\nRequirement already satisfied: dataclasses in /Users/owahltinez/opt/miniconda3/lib/python3.7/site-packages (from bananas==0.0.1->-r requirements.txt (line 1)) (0.6)\nRequirement already satisfied: tqdm in /Users/owahltinez/opt/miniconda3/lib/python3.7/site-packages (from bananas==0.0.1->-r requirements.txt (line 1)) (4.43.0)\nRequirement already satisfied: torch in /Users/owahltinez/opt/miniconda3/lib/python3.7/site-packages (from coconuts==0.0.1->-r requirements.txt (line 2)) (1.4.0)\nRequirement already satisfied: Pillow in /Users/owahltinez/opt/miniconda3/lib/python3.7/site-packages (from imgaug==0.4.0->-r requirements.txt (line 3)) (7.0.0)\nRequirement already satisfied: opencv-python in /Users/owahltinez/opt/miniconda3/lib/python3.7/site-packages (from imgaug==0.4.0->-r requirements.txt (line 3)) (4.2.0.32)\nRequirement already satisfied: scikit-image>=0.14.2 in /Users/owahltinez/opt/miniconda3/lib/python3.7/site-packages (from imgaug==0.4.0->-r requirements.txt (line 3)) (0.16.2)\nRequirement already satisfied: six in /Users/owahltinez/opt/miniconda3/lib/python3.7/site-packages (from imgaug==0.4.0->-r requirements.txt (line 3)) (1.14.0)\nRequirement already satisfied: matplotlib in /Users/owahltinez/opt/miniconda3/lib/python3.7/site-packages (from imgaug==0.4.0->-r requirements.txt (line 3)) (3.1.3)\nRequirement already satisfied: imageio in /Users/owahltinez/opt/miniconda3/lib/python3.7/site-packages (from imgaug==0.4.0->-r requirements.txt (line 3)) (2.6.1)\nRequirement already satisfied: Shapely in /Users/owahltinez/opt/miniconda3/lib/python3.7/site-packages (from imgaug==0.4.0->-r requirements.txt (line 3)) (1.7.0)\nRequirement already satisfied: scipy in /Users/owahltinez/opt/miniconda3/lib/python3.7/site-packages (from imgaug==0.4.0->-r requirements.txt (line 3)) (1.2.1)\nRequirement already satisfied: networkx>=2.0 in /Users/owahltinez/opt/miniconda3/lib/python3.7/site-packages (from scikit-image>=0.14.2->imgaug==0.4.0->-r requirements.txt (line 3)) (2.4)\nRequirement already satisfied: PyWavelets>=0.4.0 in /Users/owahltinez/opt/miniconda3/lib/python3.7/site-packages (from scikit-image>=0.14.2->imgaug==0.4.0->-r requirements.txt (line 3)) (1.1.1)\nRequirement already satisfied: python-dateutil>=2.1 in /Users/owahltinez/opt/miniconda3/lib/python3.7/site-packages (from matplotlib->imgaug==0.4.0->-r requirements.txt (line 3)) (2.8.1)\nRequirement already satisfied: cycler>=0.10 in /Users/owahltinez/opt/miniconda3/lib/python3.7/site-packages (from matplotlib->imgaug==0.4.0->-r requirements.txt (line 3)) (0.10.0)\nRequirement already satisfied: kiwisolver>=1.0.1 in /Users/owahltinez/opt/miniconda3/lib/python3.7/site-packages (from matplotlib->imgaug==0.4.0->-r requirements.txt (line 3)) (1.1.0)\nRequirement already satisfied: pyparsing!=2.0.4,!=2.1.2,!=2.1.6,>=2.0.1 in /Users/owahltinez/opt/miniconda3/lib/python3.7/site-packages (from matplotlib->imgaug==0.4.0->-r requirements.txt (line 3)) (2.4.6)\nRequirement already satisfied: decorator>=4.3.0 in /Users/owahltinez/opt/miniconda3/lib/python3.7/site-packages (from networkx>=2.0->scikit-image>=0.14.2->imgaug==0.4.0->-r requirements.txt (line 3)) (4.4.2)\nRequirement already satisfied: setuptools in /Users/owahltinez/opt/miniconda3/lib/python3.7/site-packages (from kiwisolver>=1.0.1->matplotlib->imgaug==0.4.0->-r requirements.txt (line 3)) (46.0.0)\nBuilding wheels for collected packages: bananas, coconuts\n  Building wheel for bananas (setup.py) ... \u001b[?25ldone\n\u001b[?25h  Created wheel for bananas: filename=bananas-0.0.1-py3-none-any.whl size=733516 sha256=3fe6c963490cb257292e5be2a4a3b3df8b4c4ca9175d0cd12bd4e72128bc75a7\n  Stored in directory: /private/var/folders/05/bl7ccm890vscswhv346x973m00b4kk/T/pip-ephem-wheel-cache-9n02jhkp/wheels/92/f2/19/46de652ef7daeeb62a57e79edad45ab9346e10ac2ca97c75a2\n  Building wheel for coconuts (setup.py) ... \u001b[?25ldone\n\u001b[?25h  Created wheel for coconuts: filename=coconuts-0.0.1-py3-none-any.whl size=19980 sha256=d486b5be7a84a251b0b211208e8670211559961f2305b1c55c752b9ade6f8679\n  Stored in directory: /private/var/folders/05/bl7ccm890vscswhv346x973m00b4kk/T/pip-ephem-wheel-cache-9n02jhkp/wheels/3e/cb/0d/a1df2a756246238db80833c00d6417f07c54856fdb125ed326\nSuccessfully built bananas coconuts\n"
    }
   ],
   "source": [
    "# Install required dependencies\n",
    "!pip install -r requirements.txt"
   ]
  },
  {
   "cell_type": "markdown",
   "metadata": {},
   "source": [
    "## Download dataset and helper files"
   ]
  },
  {
   "cell_type": "code",
   "execution_count": 2,
   "metadata": {},
   "outputs": [],
   "source": [
    "# Download dataset and helper files into root folder\n",
    "# https://console.cloud.google.com/storage/browser/...\n",
    "\n",
    "# Download Quick Draw! .npy files from Google Cloud into the quickdraw folder\n",
    "# https://console.cloud.google.com/storage/browser/quickdraw_dataset/full/numpy_bitmap"
   ]
  }
 ],
 "metadata": {
  "kernelspec": {
   "display_name": "Python 3",
   "language": "python",
   "name": "python3"
  },
  "language_info": {
   "codemirror_mode": {
    "name": "ipython",
    "version": 3
   },
   "file_extension": ".py",
   "mimetype": "text/x-python",
   "name": "python",
   "nbconvert_exporter": "python",
   "pygments_lexer": "ipython3",
   "version": "3.7.6-final"
  }
 },
 "nbformat": 4,
 "nbformat_minor": 2
}