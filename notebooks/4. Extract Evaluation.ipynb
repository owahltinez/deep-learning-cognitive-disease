{
 "cells": [
  {
   "cell_type": "markdown",
   "metadata": {},
   "source": [
    "# Extract Evaluations\n",
    "This notebook uses the TSV data encoding patient diagnosis. The <patient, evaluation> key is derived from the image filename. This notebook also uses the output from the `Process Drawing` notebook and essentially appends the patient diagnosis data as a column for its output."
   ],
   "execution_count": null,
   "outputs": []
  },
  {
   "cell_type": "code",
   "execution_count": null,
   "metadata": {},
   "outputs": [],
   "source": [
    "import sys\n",
    "from pathlib import Path\n",
    "\n",
    "import numpy as np\n",
    "import pandas as pd\n",
    "from tqdm import tqdm\n",
    "\n",
    "# Root path of project relative to this notebook\n",
    "ROOT = Path('..')\n",
    "\n",
    "sys.path.insert(1, str(ROOT / 'scripts'))\n",
    "from datamodels import *\n",
    "from utils import *"
   ]
  },
  {
   "cell_type": "markdown",
   "metadata": {},
   "source": [
    "### Load image drawing metadata"
   ],
   "execution_count": null,
   "outputs": []
  },
  {
   "cell_type": "code",
   "execution_count": null,
   "metadata": {},
   "outputs": [],
   "source": [
    "# Read and merge data sources\n",
    "df = pd.read_csv(ROOT / 'datasets' / 'image_processed.csv').set_index('image_path')\n",
    "\n",
    "# Convert non-primitive fields\n",
    "df['drawing_box'] = df['drawing_box'].apply(lambda x: Box.load(x))\n",
    "df['template_box'] = df['template_box'].apply(lambda x: Box.load(x))"
   ]
  },
  {
   "cell_type": "markdown",
   "metadata": {},
   "source": [
    "### Read diagnosis data from local file"
   ],
   "execution_count": null,
   "outputs": []
  },
  {
   "cell_type": "code",
   "execution_count": null,
   "metadata": {},
   "outputs": [],
   "source": [
    "ev = pd.read_csv(ROOT / 'datasets' / 'evaluations.tsv', sep='\\t')\n",
    "ev['diagnosis'] = ev['DIAG'].map(lambda diag: diag.strip().upper())\n",
    "ev['pathological'] = ev['diagnosis'].isin(('DCLNA', 'DCLM', 'DCLA')).astype(int)\n",
    "ev['key'] = ev['ID'].map(lambda x: '%03d' % x) + '_' + ev['EV'].map(str)\n",
    "ev = ev[['diagnosis', 'pathological', 'key']].set_index('key')\n",
    "diag = {key: not row['pathological'] for key, row in ev.iterrows()}"
   ]
  },
  {
   "cell_type": "markdown",
   "metadata": {},
   "source": [
    "### Merge evaluation and processed dataset"
   ],
   "execution_count": null,
   "outputs": []
  },
  {
   "cell_type": "code",
   "execution_count": null,
   "metadata": {},
   "outputs": [],
   "source": [
    "df = df.reset_index()\n",
    "df['key'] = df['image_path'].apply(lambda x: PatientRecord.build_key(Path(x)))\n",
    "df = pd.merge(df.set_index('key'), ev, left_index=True, right_index=True, how='inner')\n",
    "df.sort_values('key').to_csv(ROOT / 'datasets' / 'drawing_evaluations.csv')"
   ]
  },
  {
   "cell_type": "markdown",
   "metadata": {},
   "source": [
    "### Display summary statistics"
   ],
   "execution_count": null,
   "outputs": []
  },
  {
   "cell_type": "code",
   "execution_count": null,
   "metadata": {},
   "outputs": [],
   "source": [
    "def percent_str(val: float) -> str:\n",
    "    return ('%.02f' % (val * 100)) + '%'"
   ]
  },
  {
   "cell_type": "code",
   "execution_count": null,
   "metadata": {},
   "outputs": [],
   "source": [
    "template_stats = []\n",
    "for name in df['template_name'].unique():\n",
    "    count = sum(df['template_name'] == name)\n",
    "    template_stats.append({\n",
    "        'Drawing Category': name,\n",
    "        'Count': count,\n",
    "        'Percent': percent_str(count / len(df))})\n",
    "\n",
    "template_stats = pd.DataFrame.from_records(template_stats).set_index('Drawing Category')"
   ]
  },
  {
   "cell_type": "code",
   "execution_count": null,
   "metadata": {},
   "outputs": [],
   "source": [
    "diagnosis_stats = []\n",
    "for diag in df['diagnosis'].unique():\n",
    "    count = sum(df['diagnosis'] == diag)\n",
    "    diagnosis_stats.append({\n",
    "        'Diagnosis': diag,\n",
    "        'Count': count,\n",
    "        'Percent': percent_str(count / len(df))})\n",
    "\n",
    "pd.DataFrame.from_records(diagnosis_stats).set_index('Diagnosis')"
   ]
  }
 ],
 "metadata": {
  "kernelspec": {
   "display_name": "Python 3",
   "language": "python",
   "name": "python3"
  },
  "language_info": {
   "codemirror_mode": {
    "name": "ipython",
    "version": 3
   },
   "file_extension": ".py",
   "mimetype": "text/x-python",
   "name": "python",
   "nbconvert_exporter": "python",
   "pygments_lexer": "ipython3",
   "version": "3.7.6-final"
  }
 },
 "nbformat": 4,
 "nbformat_minor": 4
}