{
 "cells": [
  {
   "cell_type": "markdown",
   "metadata": {},
   "source": [
    "# Extract Drawing ROI\n",
    "This notebook extracts the coordinates of the drawing using the output of the `fastroi` processing. The output is a CSV file with each image path and the ROI of the drawing within the image. The ROI is computed given the estimated XY center by setting a box around it of 1.5x the size of the template height and width."
   ]
  },
  {
   "cell_type": "code",
   "execution_count": 1,
   "metadata": {},
   "outputs": [],
   "source": [
    "%matplotlib inline\n",
    "\n",
    "import math\n",
    "from pathlib import Path\n",
    "from typing import Dict, List\n",
    "\n",
    "import cv2\n",
    "import numpy as np\n",
    "import pandas as pd\n",
    "from tqdm import tqdm_notebook as tqdm\n",
    "from bananas.utils import images\n",
    "\n",
    "# Root path of project relative to this notebook\n",
    "ROOT = Path('..')\n",
    "\n",
    "sys.path.insert(1, str(ROOT / 'scripts'))\n",
    "from datamodels import *\n",
    "from utils import *"
   ]
  },
  {
   "cell_type": "markdown",
   "metadata": {},
   "source": [
    "### Load all templates from the templates folder"
   ]
  },
  {
   "cell_type": "code",
   "execution_count": 2,
   "metadata": {},
   "outputs": [
    {
     "data": {
      "text/plain": [
       "['casa',\n",
       " 'circulo',\n",
       " 'minimental',\n",
       " 'pico',\n",
       " 'cruz',\n",
       " 'muelle',\n",
       " 'cubo',\n",
       " 'cuadrado',\n",
       " 'triangulo']"
      ]
     },
     "execution_count": 2,
     "metadata": {},
     "output_type": "execute_result"
    }
   ],
   "source": [
    "templates = tpl_load_all(ROOT / 'templates')\n",
    "[tpl.name for tpl in templates]"
   ]
  },
  {
   "cell_type": "markdown",
   "metadata": {},
   "source": [
    "### Extract the coordinates from the individual CSV files in the `fastroi` folder"
   ]
  },
  {
   "cell_type": "code",
   "execution_count": 3,
   "metadata": {},
   "outputs": [],
   "source": [
    "def roi_drawing_map(tpl: Template, fastroi_dir: Path, img_root: Path, scaling: float = 1.5) -> Dict[str, Box]:\n",
    "    ''' Reads the drawing CSV file from `fastroi` and puts it into a map with the name as a key '''\n",
    "    roi_map = {}\n",
    "    for line in open(fastroi_dir / ('%s.csv' % tpl.name)):\n",
    "        fname, coords = line.split(',', 1)\n",
    "        fname = fname.split('/')[-1]\n",
    "        coords = list(map(int, coords.split(',')))\n",
    "        img = images.open_image(str(img_root / fname))\n",
    "        roi_map[fname] = coords_to_roi(coords, tpl, img.shape, scaling=scaling)\n",
    "    return roi_map\n",
    "\n",
    "def coords_to_roi(coords: List[int], tpl: Template, img_size: List[int], scaling: float):\n",
    "    ''' Converts XY center coordinates into a box assuming similar size compared to template'''\n",
    "    \n",
    "    # Open image to determine height and width\n",
    "    y_max, x_max = img_size[0], img_size[1]\n",
    "    \n",
    "    # Estimate the halves of the resulting ROI in whole pixels\n",
    "    w_max_half = int(tpl.width * scaling / 2)\n",
    "    h_max_half = int(tpl.height * scaling / 2)\n",
    "    \n",
    "    return Box(\n",
    "        left = max(0, coords[0] - w_max_half),\n",
    "        top = max(0, coords[1] - h_max_half),\n",
    "        right = min(x_max, coords[0] + w_max_half),\n",
    "        bottom = min(y_max, coords[1] + h_max_half))\n"
   ]
  },
  {
   "cell_type": "code",
   "execution_count": 4,
   "metadata": {},
   "outputs": [
    {
     "data": {
      "application/vnd.jupyter.widget-view+json": {
       "model_id": "de847ffacd0c41b2a6988037739d9625",
       "version_major": 2,
       "version_minor": 0
      },
      "text/plain": [
       "HBox(children=(IntProgress(value=0, max=9), HTML(value='')))"
      ]
     },
     "metadata": {},
     "output_type": "display_data"
    },
    {
     "data": {
      "application/vnd.jupyter.widget-view+json": {
       "model_id": "",
       "version_major": 2,
       "version_minor": 0
      },
      "text/plain": [
       "HBox(children=(IntProgress(value=0, max=721), HTML(value='')))"
      ]
     },
     "metadata": {},
     "output_type": "display_data"
    },
    {
     "data": {
      "application/vnd.jupyter.widget-view+json": {
       "model_id": "",
       "version_major": 2,
       "version_minor": 0
      },
      "text/plain": [
       "HBox(children=(IntProgress(value=0, max=705), HTML(value='')))"
      ]
     },
     "metadata": {},
     "output_type": "display_data"
    },
    {
     "data": {
      "application/vnd.jupyter.widget-view+json": {
       "model_id": "",
       "version_major": 2,
       "version_minor": 0
      },
      "text/plain": [
       "HBox(children=(IntProgress(value=0, max=707), HTML(value='')))"
      ]
     },
     "metadata": {},
     "output_type": "display_data"
    },
    {
     "data": {
      "application/vnd.jupyter.widget-view+json": {
       "model_id": "",
       "version_major": 2,
       "version_minor": 0
      },
      "text/plain": [
       "HBox(children=(IntProgress(value=0, max=710), HTML(value='')))"
      ]
     },
     "metadata": {},
     "output_type": "display_data"
    },
    {
     "data": {
      "application/vnd.jupyter.widget-view+json": {
       "model_id": "",
       "version_major": 2,
       "version_minor": 0
      },
      "text/plain": [
       "HBox(children=(IntProgress(value=0, max=705), HTML(value='')))"
      ]
     },
     "metadata": {},
     "output_type": "display_data"
    },
    {
     "data": {
      "application/vnd.jupyter.widget-view+json": {
       "model_id": "",
       "version_major": 2,
       "version_minor": 0
      },
      "text/plain": [
       "HBox(children=(IntProgress(value=0, max=710), HTML(value='')))"
      ]
     },
     "metadata": {},
     "output_type": "display_data"
    },
    {
     "data": {
      "application/vnd.jupyter.widget-view+json": {
       "model_id": "",
       "version_major": 2,
       "version_minor": 0
      },
      "text/plain": [
       "HBox(children=(IntProgress(value=0, max=721), HTML(value='')))"
      ]
     },
     "metadata": {},
     "output_type": "display_data"
    },
    {
     "data": {
      "application/vnd.jupyter.widget-view+json": {
       "model_id": "",
       "version_major": 2,
       "version_minor": 0
      },
      "text/plain": [
       "HBox(children=(IntProgress(value=0, max=705), HTML(value='')))"
      ]
     },
     "metadata": {},
     "output_type": "display_data"
    },
    {
     "data": {
      "application/vnd.jupyter.widget-view+json": {
       "model_id": "",
       "version_major": 2,
       "version_minor": 0
      },
      "text/plain": [
       "HBox(children=(IntProgress(value=0, max=705), HTML(value='')))"
      ]
     },
     "metadata": {},
     "output_type": "display_data"
    },
    {
     "name": "stdout",
     "output_type": "stream",
     "text": [
      "\n",
      "6190 ROIs processed\n"
     ]
    }
   ],
   "source": [
    "# Iterate over all image drawings\n",
    "drawing_roi_records = []\n",
    "for tpl in tqdm(templates):\n",
    "    imdir = ROOT / 'drawings' / tpl.name.upper()\n",
    "    impaths = [impath for impath in imdir.iterdir() if impath.suffix in IMG_EXTENSIONS]\n",
    "    \n",
    "    # Extract drawing ROIs from our map\n",
    "    roi_map = roi_drawing_map(tpl, ROOT / 'fastroi', imdir)\n",
    "    \n",
    "    # Iterate over each image and append record with the corresponding ROI\n",
    "    for impath in tqdm(impaths, leave=False):\n",
    "        imname = impath.name\n",
    "        relpath = str(impath.relative_to(ROOT))\n",
    "        drawing_roi = roi_map.get(imname)\n",
    "        if drawing_roi:\n",
    "            drawing_roi_records.append({\n",
    "                'image_path': str(relpath),\n",
    "                'drawing_box': str(drawing_roi)})\n",
    "            \n",
    "print(len(drawing_roi_records), 'ROIs processed')"
   ]
  },
  {
   "cell_type": "markdown",
   "metadata": {},
   "source": [
    "### Write results in a CSV file"
   ]
  },
  {
   "cell_type": "code",
   "execution_count": 5,
   "metadata": {},
   "outputs": [],
   "source": [
    "pd.DataFrame.from_records(drawing_roi_records).set_index('image_path').to_csv(ROOT / 'datasets' / 'drawing_roi.csv')"
   ]
  }
 ],
 "metadata": {
  "kernelspec": {
   "display_name": "Python 3",
   "language": "python",
   "name": "python3"
  },
  "language_info": {
   "codemirror_mode": {
    "name": "ipython",
    "version": 3
   },
   "file_extension": ".py",
   "mimetype": "text/x-python",
   "name": "python",
   "nbconvert_exporter": "python",
   "pygments_lexer": "ipython3",
   "version": "3.7.4"
  }
 },
 "nbformat": 4,
 "nbformat_minor": 2
}
