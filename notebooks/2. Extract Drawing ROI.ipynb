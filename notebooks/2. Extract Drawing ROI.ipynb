{
 "cells": [
  {
   "cell_type": "markdown",
   "metadata": {},
   "source": [
    "# Extract Drawing ROI\n",
    "This notebook extracts the coordinates of the drawing using the output of the `fastroi` processing. The output is a CSV file with each image path and the ROI of the drawing within the image. The ROI is computed given the estimated XY center by setting a box around it of 1.5x the size of the template height and width."
   ],
   "execution_count": null,
   "outputs": []
  },
  {
   "cell_type": "code",
   "execution_count": null,
   "metadata": {},
   "outputs": [],
   "source": [
    "import sys\n",
    "import math\n",
    "from pathlib import Path\n",
    "from typing import Dict, List\n",
    "\n",
    "import cv2\n",
    "import numpy as np\n",
    "import pandas as pd\n",
    "from tqdm import tqdm\n",
    "from bananas.utils import images\n",
    "\n",
    "# Root path of project relative to this notebook\n",
    "ROOT = Path('..')\n",
    "\n",
    "sys.path.insert(1, str(ROOT / 'scripts'))\n",
    "from datamodels import *\n",
    "from utils import *"
   ]
  },
  {
   "cell_type": "markdown",
   "metadata": {},
   "source": [
    "### Extract the coordinates from the individual CSV files in the `fastroi` folder"
   ],
   "execution_count": null,
   "outputs": []
  },
  {
   "cell_type": "code",
   "execution_count": null,
   "metadata": {},
   "outputs": [],
   "source": [
    "def coords_to_roi(coords: List[int], tpl: Template, img_size: List[int], scaling: float = 1.5):\n",
    "    ''' Converts XY center coordinates into a box assuming similar size compared to template'''\n",
    "    \n",
    "    # Open image to determine height and width\n",
    "    y_max, x_max = img_size[0], img_size[1]\n",
    "    \n",
    "    # Estimate the halves of the resulting ROI in whole pixels\n",
    "    w_max_half = int(tpl.width * scaling / 2)\n",
    "    h_max_half = int(tpl.height * scaling / 2)\n",
    "    \n",
    "    return Box(\n",
    "        left = max(0, coords[0] - w_max_half),\n",
    "        top = max(0, coords[1] - h_max_half),\n",
    "        right = min(x_max, coords[0] + w_max_half),\n",
    "        bottom = min(y_max, coords[1] + h_max_half))"
   ]
  },
  {
   "cell_type": "code",
   "execution_count": null,
   "metadata": {},
   "outputs": [],
   "source": [
    "# Iterate over all drawing ROIs\n",
    "drawing_roi_records = []\n",
    "for line in tqdm(open(ROOT / 'datasets' / 'fastroi_output.csv').readlines()):\n",
    "    impath, coords = line.split(',', 1)\n",
    "    coords = list(map(int, coords.split(',')))\n",
    "\n",
    "    # Open the image and extract its dimensions\n",
    "    img_shape = images.open_image(str(ROOT / impath)).shape\n",
    "\n",
    "    # Derive template from path and extract approximate coordinates\n",
    "    tpl = tpl_load(ROOT / 'templates' / (impath.split('/')[1].lower() + '.png'))\n",
    "    drawing_roi = coords_to_roi(coords, tpl, img_shape)\n",
    "\n",
    "    drawing_roi_records.append({\n",
    "        'image_path': impath,\n",
    "        'drawing_box': str(drawing_roi)})\n",
    "\n",
    "print('\\nROIs processed: %d' % len(drawing_roi_records))"
   ]
  },
  {
   "cell_type": "markdown",
   "metadata": {},
   "source": [
    "### Write results in a CSV file"
   ],
   "execution_count": null,
   "outputs": []
  },
  {
   "cell_type": "code",
   "execution_count": null,
   "metadata": {},
   "outputs": [],
   "source": [
    "pd.DataFrame.from_records(drawing_roi_records).set_index('image_path').to_csv(ROOT / 'datasets' / 'drawing_roi.csv')"
   ]
  }
 ],
 "metadata": {
  "kernelspec": {
   "display_name": "Python 3",
   "language": "python",
   "name": "python3"
  },
  "language_info": {
   "codemirror_mode": {
    "name": "ipython",
    "version": 3
   },
   "file_extension": ".py",
   "mimetype": "text/x-python",
   "name": "python",
   "nbconvert_exporter": "python",
   "pygments_lexer": "ipython3",
   "version": "3.7.6-final"
  }
 },
 "nbformat": 4,
 "nbformat_minor": 2
}